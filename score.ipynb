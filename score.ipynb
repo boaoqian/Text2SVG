{
 "cells": [
  {
   "cell_type": "code",
   "id": "initial_id",
   "metadata": {
    "collapsed": true,
    "ExecuteTime": {
     "end_time": "2025-03-07T05:35:20.882865Z",
     "start_time": "2025-03-07T05:35:13.105956Z"
    }
   },
   "source": [
    "from PIL import Image\n",
    "import matplotlib.pyplot as plt\n",
    "from transformers import AutoProcessor, AutoModel\n",
    "import torch,cairosvg,io\n",
    "\n",
    "model = AutoModel.from_pretrained(\"/media/qba/Data/Project/DeepLearning/Model/siglip-so400m\",device_map=\"auto\")\n",
    "processor = AutoProcessor.from_pretrained(\"/media/qba/Data/Project/DeepLearning/Model/siglip-so400m\")\n",
    "\n"
   ],
   "outputs": [
    {
     "name": "stderr",
     "output_type": "stream",
     "text": [
      "2025-03-07 13:35:15.450966: I tensorflow/core/util/port.cc:153] oneDNN custom operations are on. You may see slightly different numerical results due to floating-point round-off errors from different computation orders. To turn them off, set the environment variable `TF_ENABLE_ONEDNN_OPTS=0`.\n",
      "2025-03-07 13:35:15.465357: E external/local_xla/xla/stream_executor/cuda/cuda_fft.cc:477] Unable to register cuFFT factory: Attempting to register factory for plugin cuFFT when one has already been registered\n",
      "WARNING: All log messages before absl::InitializeLog() is called are written to STDERR\n",
      "E0000 00:00:1741325715.474669  205924 cuda_dnn.cc:8310] Unable to register cuDNN factory: Attempting to register factory for plugin cuDNN when one has already been registered\n",
      "E0000 00:00:1741325715.478984  205924 cuda_blas.cc:1418] Unable to register cuBLAS factory: Attempting to register factory for plugin cuBLAS when one has already been registered\n",
      "2025-03-07 13:35:15.489870: I tensorflow/core/platform/cpu_feature_guard.cc:210] This TensorFlow binary is optimized to use available CPU instructions in performance-critical operations.\n",
      "To enable the following instructions: AVX2 AVX_VNNI FMA, in other operations, rebuild TensorFlow with the appropriate compiler flags.\n"
     ]
    }
   ],
   "execution_count": 2
  },
  {
   "cell_type": "code",
   "id": "497ef9ee72deab95",
   "metadata": {
    "ExecuteTime": {
     "end_time": "2025-03-07T06:41:57.442499Z",
     "start_time": "2025-03-07T06:41:57.366921Z"
    }
   },
   "source": [
    "svg1 = b\"\"\"\n",
    "  <svg viewBox=\"0 0 256 256\" width=\"256\" height=\"256\">\n",
    "    <!-- Define the gradient for the corduroy texture -->\n",
    "    <defs>\n",
    "      <linearGradient id=\"corduroyGradient\" x1=\"0%\" y1=\"0%\" x2=\"100%\" y2=\"100%\">\n",
    "        <stop offset=\"0%\" stop-color=\"rgb(255, 69, 0)\" />\n",
    "        <stop offset=\"50%\" stop-color=\"rgb(255, 140, 0)\" />\n",
    "        <stop offset=\"100%\" stop-color=\"rgb(255, 69, 0)\" />\n",
    "      </linearGradient>\n",
    "    </defs>\n",
    "\n",
    "    <!-- Jacket body -->\n",
    "    <path d=\"M50,50 Q80,10 150,10 Q220,10 250,50 C220,80 150,110 80,110 Q50,80 20,50 50,20 L20,50 Q50,80 80,110 C150,110 220,80 250,50 Z\" fill=\"url(#corduroyGradient)\" stroke=\"rgb(255, 140, 0)\" stroke-width=\"2\" />\n",
    "\n",
    "    <!-- Collar -->\n",
    "    <path d=\"M70,80 Q100,60 130,80 C100,100 70,120 70,80 Z\" fill=\"rgb(255, 130, 0)\" stroke=\"rgb(255, 140, 0)\" stroke-width=\"2\" />\n",
    "\n",
    "    <!-- Button -->\n",
    "    <circle cx=\"115\" cy=\"135\" r=\"5\" fill=\"rgb(255, 140, 0)\" />\n",
    "\n",
    "    <!-- Details and adjustments -->\n",
    "    <line x1=\"50\" y1=\"50\" x2=\"80\" y2=\"10\" stroke=\"rgb(255, 140, 0)\" stroke-width=\"2\" />\n",
    "    <line x1=\"220\" y1=\"50\" x2=\"250\" y2=\"10\" stroke=\"rgb(255, 140, 0)\" stroke-width=\"2\" />\n",
    "  </svg>\n",
    "\"\"\"\n",
    "svg2 = b\"\"\"\n",
    "<svg viewBox=\"0 0 256 256\" width=\"256\" height=\"256\">\n",
    "  <!-- Podium -->\n",
    "  <rect x=\"40\" y=\"180\" width=\"80\" height=\"40\" fill=\"#C0C0C0\"/>\n",
    "  <rect x=\"40\" y=\"220\" width=\"40\" height=\"20\" fill=\"#C0C0C0\"/>\n",
    "  <rect x=\"80\" y=\"220\" width=\"40\" height=\"20\" fill=\"#C0C0C0\"/>\n",
    "  <rect x=\"120\" y=\"220\" width=\"40\" height=\"20\" fill=\"#C0C0C0\"/>\n",
    "\n",
    "  <!-- Goose -->\n",
    "  <path d=\"M160 200 Q 170 180 180 160 Q 190 140 200 120 Q 210 100 220 80 Q 230 60 240 40 Q 250 20 260 0\" fill=\"#B26622\" stroke=\"black\" stroke-width=\"2\"/>\n",
    "\n",
    "  <!-- Medal -->\n",
    "  <g transform=\"translate(140, 220)\">\n",
    "    <circle cx=\"0\" cy=\"0\" r=\"20\" fill=\"gold\" fill-opacity=\"0.5\"/>\n",
    "    <path d=\"M165 190 A 50 50 0 0 1 190 200 A 50 50 0 0 1 165 190\" fill=\"white\" fill-opacity=\"0.9\"/>\n",
    "  </g>\n",
    "\n",
    "  <!-- Flag -->\n",
    "  <rect x=\"160\" y=\"215\" width=\"20\" height=\"10\" fill=\"#003399\"/>\n",
    "  <path d=\"M170 215 Q 180 220 190 215\" fill=\"white\"/>\n",
    "</svg>\n",
    "\"\"\"\n",
    "texts = [\"SVG illustration of \"+\"a goose winning a gold medal\"]\n",
    "img = cairosvg.svg2png(svg2)\n",
    "img = Image.open(io.BytesIO(img))\n",
    "img = img.convert('RGB')\n",
    "plt.imshow(img)"
   ],
   "outputs": [
    {
     "data": {
      "text/plain": [
       "<matplotlib.image.AxesImage at 0x7c1616a4c790>"
      ]
     },
     "execution_count": 8,
     "metadata": {},
     "output_type": "execute_result"
    },
    {
     "data": {
      "text/plain": [
       "<Figure size 640x480 with 1 Axes>"
      ],
      "image/png": "[encoded data removed]"
     },
     "metadata": {},
     "output_type": "display_data"
    }
   ],
   "execution_count": 8
  },
  {
   "cell_type": "code",
   "id": "50b0b9240e55f080",
   "metadata": {
    "ExecuteTime": {
     "end_time": "2025-03-07T06:42:02.579478Z",
     "start_time": "2025-03-07T06:42:02.349661Z"
    }
   },
   "source": [
    "\n",
    "inputs = processor(text=texts, images=img, padding=\"max_length\", return_tensors=\"pt\").to(\"cuda\")\n",
    "\n",
    "with torch.no_grad():\n",
    "    outputs = model(**inputs)\n",
    "\n",
    "logits_per_image = outputs.logits_per_image\n",
    "probs = torch.sigmoid(logits_per_image) # these are the probabilities\n",
    "print(f\"{probs[0][0]:.1%} that image 0 is '{texts[0]}'\")"
   ],
   "outputs": [
    {
     "name": "stdout",
     "output_type": "stream",
     "text": [
      "0.0% that image 0 is 'SVG illustration of a goose winning a gold medal'\n"
     ]
    }
   ],
   "execution_count": 9
  }
 ],
 "metadata": {
  "kernelspec": {
   "display_name": "dl",
   "language": "python",
   "name": "python3"
  },
  "language_info": {
   "codemirror_mode": {
    "name": "ipython",
    "version": 3
   },
   "file_extension": ".py",
   "mimetype": "text/x-python",
   "name": "python",
   "nbconvert_exporter": "python",
   "pygments_lexer": "ipython3",
   "version": "3.10.14"
  }
 },
 "nbformat": 4,
 "nbformat_minor": 5
}
